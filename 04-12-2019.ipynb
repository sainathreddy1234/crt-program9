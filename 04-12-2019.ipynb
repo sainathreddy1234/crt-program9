{
 "cells": [
  {
   "cell_type": "markdown",
   "metadata": {},
   "source": [
    "## Day objectives\n",
    " - loop functions\n",
    " - functions (user defined functions)\n",
    " - list,tuples and string"
   ]
  },
  {
   "cell_type": "code",
   "execution_count": null,
   "metadata": {},
   "outputs": [],
   "source": [
    "# read the number as input\n",
    "# print the output as digits\n",
    "# test cases:\n",
    "# 145  --  5 4 1\n",
    "# 123  --  3 2 1"
   ]
  },
  {
   "cell_type": "code",
   "execution_count": 5,
   "metadata": {},
   "outputs": [
    {
     "name": "stdout",
     "output_type": "stream",
     "text": [
      " 234\n",
      "4 3 2 "
     ]
    }
   ],
   "source": [
    "n = int(input(' '))\n",
    "while n != 0 :\n",
    "    r = n % 10\n",
    "    print(r,end = ' ')\n",
    "    n = n // 10"
   ]
  },
  {
   "cell_type": "markdown",
   "metadata": {},
   "source": [
    "### functions in programing\n",
    " - program wil divides into parts\n",
    " - it makes the reuse of the codes\n",
    " - functions makes the programing more easier\n",
    " - def is keywod which is used to define the function\n",
    " - function name follows the camel case always\n",
    "    -  fun() is palindrome() ispalindromecheck()\n",
    " - defination of the function can be any thing for the given requrement\n",
    " - def functionname():\n",
    "      - statements\n",
    "      - return"
   ]
  },
  {
   "cell_type": "code",
   "execution_count": null,
   "metadata": {},
   "outputs": [],
   "source": [
    "# read the input as numbers\n",
    "# print the output as large digit of the given number\n",
    "# 58952  --  9\n",
    "# 753124 --  7\n",
    "def largedigit(n):\n",
    "    return\n",
    "largedigit(58952) # 9"
   ]
  },
  {
   "cell_type": "code",
   "execution_count": 13,
   "metadata": {},
   "outputs": [
    {
     "name": "stdout",
     "output_type": "stream",
     "text": [
      "58592\n"
     ]
    },
    {
     "data": {
      "text/plain": [
       "9"
      ]
     },
     "execution_count": 13,
     "metadata": {},
     "output_type": "execute_result"
    }
   ],
   "source": [
    "def largedigit(n):\n",
    "    # logic \n",
    "    large = 0\n",
    "    while n != 0 :\n",
    "         r = n % 10\n",
    "         if large < r:\n",
    "            large = r\n",
    "         n = n // 10\n",
    "    return large\n",
    "n = int(input(''))\n",
    "largedigit(n) # 9"
   ]
  },
  {
   "cell_type": "code",
   "execution_count": 19,
   "metadata": {},
   "outputs": [
    {
     "name": "stdout",
     "output_type": "stream",
     "text": [
      "145\n"
     ]
    },
    {
     "data": {
      "text/plain": [
       "10"
      ]
     },
     "execution_count": 19,
     "metadata": {},
     "output_type": "execute_result"
    }
   ],
   "source": [
    "# read the input as numbers\n",
    "# sum of digits of the given number\n",
    "# 145  --  10 (1+4+5)\n",
    "# 1243 --  10\n",
    "def sumofdigit(n) :\n",
    "    s = 0\n",
    "    while n != 0 :\n",
    "        r = n % 10\n",
    "        s = s + r\n",
    "        n = n // 10\n",
    "    return s\n",
    "n =int(input(''))\n",
    "sumofdigit(n)"
   ]
  },
  {
   "cell_type": "code",
   "execution_count": 30,
   "metadata": {},
   "outputs": [
    {
     "name": "stdout",
     "output_type": "stream",
     "text": [
      "454\n"
     ]
    },
    {
     "data": {
      "text/plain": [
       "'palindrome'"
      ]
     },
     "execution_count": 30,
     "metadata": {},
     "output_type": "execute_result"
    }
   ],
   "source": [
    "# read the input as numbers\n",
    "# print the outpu as \"palindrome\" or \"not  palindrome\"\n",
    "# a number reversed itself is sameas original number called as palindrome\n",
    "# 121  --palindrome\n",
    "# 1889 -- not a palindrome\n",
    "# 145  -- not a palindrome\n",
    "def ispalindrome(n) :\n",
    "    s = 0\n",
    "    buffer = n\n",
    "    while n != 0: \n",
    "        r = n % 10\n",
    "        s = s * 10 + r\n",
    "        n = n // 10\n",
    "    if  s == buffer :\n",
    "        return \"palindrome\"\n",
    "    else :\n",
    "        return \" not a palindrome\"\n",
    "    return\n",
    "n = int(input(''))\n",
    "ispalindrome(n)\n",
    "  "
   ]
  },
  {
   "cell_type": "code",
   "execution_count": 33,
   "metadata": {},
   "outputs": [
    {
     "name": "stdout",
     "output_type": "stream",
     "text": [
      "59582\n"
     ]
    },
    {
     "data": {
      "text/plain": [
       "8"
      ]
     },
     "execution_count": 33,
     "metadata": {},
     "output_type": "execute_result"
    }
   ],
   "source": [
    "# read the input as numbers\n",
    "# print the large digit from last three positions of the number\n",
    "# test cases :\n",
    "# 59852  -- 8\n",
    "# 175215 -- 5\n",
    "def printlargedigit(n):\n",
    "    i = 0\n",
    "    large = 0\n",
    "    while i != 3:\n",
    "        r = n % 10\n",
    "        if large < r:\n",
    "            large = r\n",
    "        n = n // 10\n",
    "        i = i + 1\n",
    "    return large \n",
    "n = int(input(''))\n",
    "printlargedigit(n)\n",
    "        \n",
    "    \n",
    "    "
   ]
  },
  {
   "cell_type": "markdown",
   "metadata": {},
   "source": [
    "### data structure of python  programing\n",
    "  - list \n",
    "  - tuples\n",
    "  - dictonaries\n",
    "  - sets"
   ]
  },
  {
   "cell_type": "code",
   "execution_count": 34,
   "metadata": {},
   "outputs": [
    {
     "name": "stdout",
     "output_type": "stream",
     "text": [
      "[1, 2, 3, 4, 5]\n"
     ]
    }
   ],
   "source": [
    "li = [1,2,3,4,5]\n",
    "print(li)"
   ]
  },
  {
   "cell_type": "markdown",
   "metadata": {},
   "source": []
  },
  {
   "cell_type": "code",
   "execution_count": 35,
   "metadata": {},
   "outputs": [
    {
     "name": "stdout",
     "output_type": "stream",
     "text": [
      "[1, 2, 'gitam', 186, 2]\n"
     ]
    }
   ],
   "source": [
    "li1 = [1,2,\"gitam\",186,2]\n",
    "print(li1)"
   ]
  },
  {
   "cell_type": "code",
   "execution_count": 38,
   "metadata": {},
   "outputs": [
    {
     "name": "stdout",
     "output_type": "stream",
     "text": [
      "1 2 3 4 5 "
     ]
    }
   ],
   "source": [
    "for i in range(len(li)):\n",
    "    print(li[i],end = ' ')"
   ]
  },
  {
   "cell_type": "code",
   "execution_count": 39,
   "metadata": {},
   "outputs": [
    {
     "name": "stdout",
     "output_type": "stream",
     "text": [
      "1 2 3 4 5 6 7 8 9 10 11 "
     ]
    }
   ],
   "source": [
    "for i in range(1,12):\n",
    "    print(i,end =' ')"
   ]
  },
  {
   "cell_type": "code",
   "execution_count": null,
   "metadata": {},
   "outputs": [],
   "source": []
  }
 ],
 "metadata": {
  "kernelspec": {
   "display_name": "Python 3",
   "language": "python",
   "name": "python3"
  },
  "language_info": {
   "codemirror_mode": {
    "name": "ipython",
    "version": 3
   },
   "file_extension": ".py",
   "mimetype": "text/x-python",
   "name": "python",
   "nbconvert_exporter": "python",
   "pygments_lexer": "ipython3",
   "version": "3.7.1"
  }
 },
 "nbformat": 4,
 "nbformat_minor": 2
}
